{
 "cells": [
  {
   "cell_type": "markdown",
   "metadata": {},
   "source": [
    "## Ejemplo 4: Scatterplots con variables condicionantes\n",
    "\n",
    "### 1. Objetivos:\n",
    "- Aprender a generar e interpretar scatterplots con variables condicionantes\n",
    " \n",
    "---\n",
    "    \n",
    "### 2. Desarrollo:"
   ]
  },
  {
   "cell_type": "code",
   "execution_count": null,
   "metadata": {},
   "outputs": [],
   "source": [
    "import pandas as pd\n",
    "import seaborn as sns\n",
    "import matplotlib.pyplot as plt"
   ]
  },
  {
   "cell_type": "code",
   "execution_count": null,
   "metadata": {},
   "outputs": [],
   "source": [
    "df = pd.read_csv('../../Datasets/athlete_olympic_events-clean.csv', index_col=0)\n",
    "\n",
    "df.head()"
   ]
  },
  {
   "cell_type": "markdown",
   "metadata": {},
   "source": [
    "Por ejemplo, digamos que queremos visualizar las diferencias de peso y altura que hay entre los atletas que juegan basketball, volleyball, football y beisball:"
   ]
  },
  {
   "cell_type": "code",
   "execution_count": null,
   "metadata": {},
   "outputs": [],
   "source": [
    "df_grouped = df.groupby('name')[['height', 'weight', 'sport']].max()"
   ]
  },
  {
   "cell_type": "code",
   "execution_count": null,
   "metadata": {},
   "outputs": [],
   "source": [
    "df_ball = df_grouped[df_grouped['sport'].isin(['Basketball', 'Volleyball', 'Football', 'Baseball'])]"
   ]
  },
  {
   "cell_type": "code",
   "execution_count": null,
   "metadata": {},
   "outputs": [],
   "source": [
    "fig = plt.figure(figsize=(10, 8))\n",
    "ax = fig.add_subplot()\n",
    "sns.scatterplot(x=df_ball['height'],y=df_ball['weight'], hue=df_ball['sport'], style=df_ball['sport'], ax=ax);"
   ]
  },
  {
   "cell_type": "markdown",
   "metadata": {},
   "source": [
    "Utilizando este scatterplot por categorías ya podemos darnos una idea de las diferencias. Pero hay cierta confusión en la parte central de la gráfica donde están concentrados todos los deportes. Es difícil diferenciar los puntos cuando hay aglomeraciones tan grandes. Podemos entonces generar un scatterplot con variables condicionantes para ayudarnos:"
   ]
  },
  {
   "cell_type": "code",
   "execution_count": null,
   "metadata": {},
   "outputs": [],
   "source": [
    "basket = df_ball[df_ball['sport'] == 'Basketball']\n",
    "volley = df_ball[df_ball['sport'] == 'Volleyball']\n",
    "foot = df_ball[df_ball['sport'] == 'Football']\n",
    "base = df_ball[df_ball['sport'] == 'Baseball']"
   ]
  },
  {
   "cell_type": "code",
   "execution_count": null,
   "metadata": {},
   "outputs": [],
   "source": [
    "sns.set_style('whitegrid')\n",
    "palette = [\"#223127\",\"#9c0d38\",\"#ce5374\",\"#dbbbf5\",\"#F9A03F\"]\n",
    "\n",
    "fig = plt.figure(figsize=(8, 8))\n",
    "axes = fig.subplots(2, 2, sharex=True, sharey=True)\n",
    "\n",
    "sns.scatterplot(x=basket['height'],y=basket['weight'], ax=axes[0, 0], color=palette[4])\n",
    "sns.scatterplot(x=volley['height'],y=volley['weight'], ax=axes[0, 1], color=palette[1])\n",
    "sns.scatterplot(x=foot['height'],y=foot['weight'], ax=axes[1, 0], color=palette[2])\n",
    "sns.scatterplot(x=base['height'],y=base['weight'], ax=axes[1, 1], color=palette[3]);\n",
    "\n",
    "axes[0, 0].set_title('Basketball')\n",
    "axes[0, 1].set_title('Volleyball')\n",
    "axes[1, 0].set_title('Football')\n",
    "axes[1, 1].set_title('Baseball')\n",
    "\n",
    "fig.suptitle('Relationship between height and weight in 4 sports', fontsize=15, c=palette[0], x=0.53)\n",
    "\n",
    "plt.tight_layout()\n",
    "plt.subplots_adjust(top=0.9)"
   ]
  },
  {
   "cell_type": "markdown",
   "metadata": {},
   "source": [
    "¡Genial¡ Ahora sí tenemos mucha más claridad acerca de cómo están repartidos los atletas que juegan estos 4 deportes. Podemos ver que cada deporte tiene ciertas tendencias muy claras. Aunque hay mucha superposición, hay diferencias claras."
   ]
  }
 ],
 "metadata": {
  "kernelspec": {
   "display_name": "Python 3",
   "language": "python",
   "name": "python3"
  },
  "language_info": {
   "codemirror_mode": {
    "name": "ipython",
    "version": 3
   },
   "file_extension": ".py",
   "mimetype": "text/x-python",
   "name": "python",
   "nbconvert_exporter": "python",
   "pygments_lexer": "ipython3",
   "version": "3.8.5"
  }
 },
 "nbformat": 4,
 "nbformat_minor": 4
}
