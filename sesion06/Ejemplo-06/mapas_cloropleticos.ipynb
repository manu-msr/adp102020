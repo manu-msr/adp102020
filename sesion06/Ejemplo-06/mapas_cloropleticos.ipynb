{
 "cells": [
  {
   "cell_type": "markdown",
   "metadata": {},
   "source": [
    "## Ejemplo 6: Mapas Cloropléticos\n",
    "\n",
    "### 1. Objetivos:\n",
    "- Aprender a generar e interpretar mapas cloropléticos\n",
    " \n",
    "---\n",
    "    \n",
    "### 2. Desarrollo:"
   ]
  },
  {
   "cell_type": "markdown",
   "metadata": {},
   "source": [
    "Para generar un mapa cloroplético necesitamos dos fuentes de datos:\n",
    "\n",
    "1. La primera es un archivo que contenga datos en un formato llamado GeoJSON. El formato GeoJSON utiliza el formato JSON para representar características geográficas de una manera que pueda ser interpretada por una computadora. Un archivo GeoJSON puede incluir puntos en un mapa, regiones geográficas, anotaciones, nombres de regiones, etc. Este archivo nos sirve para poder colocar objetos sobre un mapa.\n",
    "\n",
    "2. La segunda es nuestro dataset. Este dataset es como cualquier otro que hemos utilizando anteriormente. Lo único importante es que tenemos que asegurarnos de que haya una manera de relacionar nuestro dataset con nuestro archivo GeoJSON. Esto se hace de una manera similar a como funcionan los joins de SQL. Relacionando una columna de nuestro dataset con una llave de nuestro GeoJSON podemos entonces indicarle a nuestro programa cómo dibujar cosas sobre un mapa.\n",
    "\n",
    "Una de las librerías que podemos utilizar para dibujar mapas se llama `folium`. Se utiliza de la siguiente manera:"
   ]
  },
  {
   "cell_type": "code",
   "execution_count": null,
   "metadata": {},
   "outputs": [],
   "source": [
    "import pandas as pd\n",
    "import folium"
   ]
  },
  {
   "cell_type": "code",
   "execution_count": null,
   "metadata": {
    "scrolled": true
   },
   "outputs": [],
   "source": [
    "df = pd.read_json('../../Datasets/us_states.json')\n",
    "df.head()"
   ]
  },
  {
   "cell_type": "code",
   "execution_count": null,
   "metadata": {},
   "outputs": [],
   "source": [
    "df2 = pd.read_csv('../../Datasets/us_unemployment-oct_2012.csv')\n",
    "df2.head()"
   ]
  },
  {
   "cell_type": "code",
   "execution_count": null,
   "metadata": {},
   "outputs": [],
   "source": [
    "state_geo = f'../../Datasets/us_states.json'\n",
    "state_unemployment = f'../../Datasets/us_unemployment-oct_2012.csv'\n",
    "state_data = pd.read_csv(state_unemployment)\n",
    "\n",
    "m = folium.Map(location=[48, -102], zoom_start=3, width='60%', height='60%')\n",
    "\n",
    "folium.Choropleth(\n",
    "    geo_data=state_geo,\n",
    "    name='choropleth',\n",
    "    data=state_data,\n",
    "    columns=['State', 'Unemployment'],\n",
    "    key_on='feature.id',\n",
    "    fill_color='YlGn',\n",
    "    fill_opacity=0.7,\n",
    "    line_opacity=0.2,\n",
    "    legend_name='Unemployment Rate (%)'\n",
    ").add_to(m)\n",
    "\n",
    "folium.LayerControl().add_to(m)\n",
    "\n",
    "m"
   ]
  },
  {
   "cell_type": "markdown",
   "metadata": {},
   "source": [
    "Es posible agregar popups para poder visualizar los valores de cada región. Si te interesa aprender cómo hacer esto, puedes visitar este link: https://vverde.github.io/blob/interactivechoropleth.html."
   ]
  }
 ],
 "metadata": {
  "kernelspec": {
   "display_name": "Python 3",
   "language": "python",
   "name": "python3"
  },
  "language_info": {
   "codemirror_mode": {
    "name": "ipython",
    "version": 3
   },
   "file_extension": ".py",
   "mimetype": "text/x-python",
   "name": "python",
   "nbconvert_exporter": "python",
   "pygments_lexer": "ipython3",
   "version": "3.8.5"
  }
 },
 "nbformat": 4,
 "nbformat_minor": 4
}
