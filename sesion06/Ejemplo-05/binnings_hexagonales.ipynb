{
 "cells": [
  {
   "cell_type": "markdown",
   "metadata": {},
   "source": [
    "## Ejemplo 5: Binnings Hexagonales\n",
    "\n",
    "### 1. Objetivos:\n",
    "- Aprender a generar e interpretar binnings hexagonales\n",
    " \n",
    "---\n",
    "    \n",
    "### 2. Desarrollo:"
   ]
  },
  {
   "cell_type": "code",
   "execution_count": null,
   "metadata": {},
   "outputs": [],
   "source": [
    "import pandas as pd\n",
    "import seaborn as sns\n",
    "import matplotlib.pyplot as plt"
   ]
  },
  {
   "cell_type": "code",
   "execution_count": null,
   "metadata": {},
   "outputs": [],
   "source": [
    "df = pd.read_csv('../../Datasets/athlete_olympic_events-clean.csv', index_col=0)\n",
    "\n",
    "df.head()"
   ]
  },
  {
   "cell_type": "markdown",
   "metadata": {},
   "source": [
    "Por ejemplo, mira qué pasa cuando queremos visualizar la relación entre peso y altura utilizando todos los datos de nuestro dataset:"
   ]
  },
  {
   "cell_type": "code",
   "execution_count": null,
   "metadata": {},
   "outputs": [],
   "source": [
    "df_grouped = df.groupby('name')[['height', 'weight']].max()"
   ]
  },
  {
   "cell_type": "code",
   "execution_count": null,
   "metadata": {},
   "outputs": [],
   "source": [
    "sns.set_style('white')\n",
    "\n",
    "fig = plt.figure(figsize=(8, 8))\n",
    "ax = fig.add_subplot()\n",
    "\n",
    "sns.scatterplot(x=df_grouped['height'],y=df_grouped['weight'], ax=ax);\n",
    "\n",
    "fig.suptitle('Relationship between height and weight in Olympic athletes', fontsize=15)\n",
    "\n",
    "ax.spines[\"top\"].set_color(\"None\") \n",
    "ax.spines[\"right\"].set_color(\"None\")\n",
    "\n",
    "ax.set_xlim(110)\n",
    "ax.set_ylim(0);"
   ]
  },
  {
   "cell_type": "markdown",
   "metadata": {},
   "source": [
    "Aunque podemos ver una forma más o menos distinguible, hay tantos puntos que es imposible discernir dónde hay más o menos densidad. Veamos ahora cómo se ven estos mismos datos pero con un binning hexagonal:"
   ]
  },
  {
   "cell_type": "code",
   "execution_count": null,
   "metadata": {},
   "outputs": [],
   "source": [
    "sns.jointplot(x='height',y='weight', data=df_grouped, kind='hex', ratio=5, joint_kws={'gridsize': 50});"
   ]
  },
  {
   "cell_type": "markdown",
   "metadata": {},
   "source": [
    "Esta gráfica permite que visualicemos con mucho más detalle la distribución de nuestros datos. Observa también los histogramas que se encuentran en la parte superior y derecha de la gráfica. Estos histogramas nos ayudan a visualizar de qué manera participa cada variable en la densidad resultante."
   ]
  }
 ],
 "metadata": {
  "kernelspec": {
   "display_name": "Python 3",
   "language": "python",
   "name": "python3"
  },
  "language_info": {
   "codemirror_mode": {
    "name": "ipython",
    "version": 3
   },
   "file_extension": ".py",
   "mimetype": "text/x-python",
   "name": "python",
   "nbconvert_exporter": "python",
   "pygments_lexer": "ipython3",
   "version": "3.8.5"
  }
 },
 "nbformat": 4,
 "nbformat_minor": 4
}
