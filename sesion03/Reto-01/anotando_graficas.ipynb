{
 "cells": [
  {
   "cell_type": "markdown",
   "metadata": {},
   "source": [
    "# Reto 1: Anotando gráficas\n",
    "\n",
    "## 1. Objetivos:\n",
    "- Aprender a hacer gráficas más claras añadiendo anotaciones y cambiando el tamaño\n",
    " \n",
    "---\n",
    "    \n",
    "## 2. Desarrollo:"
   ]
  },
  {
   "cell_type": "markdown",
   "metadata": {},
   "source": [
    "A continuación verás algunas gráficas que han sido realizadas de antemano. Tu Reto es añadir títulos, nombres de ejes, leyendas, etc. para que estas gráficas sean más comprensibles. En el caso de que sea necesario, aumenta también el tamaño de la gráfica\n",
    "\n",
    "Para que puedas echarle un vistazo al tema de este dataset, [visita este link](https://www.kaggle.com/uciml/pima-indians-diabetes-database). Es importante saber de qué hablamos para saber anotar correctamente nuestras gráficas.\n",
    "\n",
    "Entonces:\n",
    "\n",
    "1. Aumenta de tamaño la gráfica si consideras que sería más comprensible de esa manera\n",
    "2. Donde sea adecuado, añade títulos, nombres de ejes y leyendas"
   ]
  },
  {
   "cell_type": "code",
   "execution_count": null,
   "metadata": {},
   "outputs": [],
   "source": [
    "import pandas as pd\n",
    "import matplotlib.pyplot as plt\n",
    "import seaborn as sns\n",
    "sns.set_style('white')"
   ]
  },
  {
   "cell_type": "code",
   "execution_count": null,
   "metadata": {},
   "outputs": [],
   "source": [
    "df = pd.read_csv('../../Datasets/diabetes-clean.csv', index_col=0)\n",
    "\n",
    "df.head()"
   ]
  },
  {
   "cell_type": "markdown",
   "metadata": {},
   "source": [
    "### a)"
   ]
  },
  {
   "cell_type": "code",
   "execution_count": null,
   "metadata": {},
   "outputs": [],
   "source": [
    "sns.displot(df['glucose'], kde=False)"
   ]
  },
  {
   "cell_type": "markdown",
   "metadata": {},
   "source": [
    "### b)"
   ]
  },
  {
   "cell_type": "code",
   "execution_count": null,
   "metadata": {},
   "outputs": [],
   "source": [
    "pregnancy_counts = df['pregnancies'].value_counts()\n",
    "sns.barplot(x=pregnancy_counts.index, y=pregnancy_counts)"
   ]
  },
  {
   "cell_type": "markdown",
   "metadata": {},
   "source": [
    "### c)"
   ]
  },
  {
   "cell_type": "code",
   "execution_count": null,
   "metadata": {},
   "outputs": [],
   "source": [
    "healthy = df[df['outcome'] == 0]\n",
    "sick = df[df['outcome'] == 1]\n",
    "sns.kdeplot(healthy['glucose'], shade=True)\n",
    "sns.kdeplot(sick['glucose'], shade=True)"
   ]
  },
  {
   "cell_type": "markdown",
   "metadata": {},
   "source": [
    "### d)"
   ]
  },
  {
   "cell_type": "code",
   "execution_count": null,
   "metadata": {},
   "outputs": [],
   "source": [
    "sns.kdeplot(sick['blood_pressure'], shade=True)\n",
    "sns.kdeplot(sick['glucose'], shade=True)\n",
    "sns.kdeplot(sick['insulin'], shade=True)"
   ]
  },
  {
   "cell_type": "code",
   "execution_count": null,
   "metadata": {},
   "outputs": [],
   "source": []
  }
 ],
 "metadata": {
  "kernelspec": {
   "display_name": "Python 3",
   "language": "python",
   "name": "python3"
  },
  "language_info": {
   "codemirror_mode": {
    "name": "ipython",
    "version": 3
   },
   "file_extension": ".py",
   "mimetype": "text/x-python",
   "name": "python",
   "nbconvert_exporter": "python",
   "pygments_lexer": "ipython3",
   "version": "3.8.5"
  }
 },
 "nbformat": 4,
 "nbformat_minor": 4
}
