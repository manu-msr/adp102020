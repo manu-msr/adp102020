{
 "cells": [
  {
   "cell_type": "markdown",
   "metadata": {},
   "source": [
    "# Ejemplo 4: Pairplots\n",
    "\n",
    "## 1. Objetivos:\n",
    "- Aprender a generar pairplots para visualizar la relación entre múltiples variables al mismo tiempo.\n",
    "    \n",
    "## 2. Desarrollo:"
   ]
  },
  {
   "cell_type": "markdown",
   "metadata": {},
   "source": [
    "Recordarás por el último ejemplo que hemos aprendido que no basta con utilizar una sola medida o gráfica para entender la relación entre dos variables. Los pairplots son complementos naturales a las matrices de correlación, ya que permiten echarle un vistazo general a todo un dataset para tener una idea de qué es lo que está pasando."
   ]
  },
  {
   "cell_type": "code",
   "execution_count": null,
   "metadata": {},
   "outputs": [],
   "source": [
    "import pandas as pd\n",
    "import seaborn as sns\n",
    "import matplotlib.pyplot as plt"
   ]
  },
  {
   "cell_type": "code",
   "execution_count": null,
   "metadata": {},
   "outputs": [],
   "source": [
    "df = pd.read_csv('../../Datasets/diabetes-clean.csv', index_col=0)\n",
    "\n",
    "df.head()"
   ]
  },
  {
   "cell_type": "code",
   "execution_count": null,
   "metadata": {},
   "outputs": [],
   "source": [
    "no_outcome = df.drop(columns=['outcome'])\n",
    "\n",
    "# Vamos a filtrar todos los valores iguales a 0 que ya vimos que nos causan distorsiones en nuestras medidas.\n",
    "\n",
    "no_zeros = no_outcome[no_outcome > 0]"
   ]
  },
  {
   "cell_type": "code",
   "execution_count": null,
   "metadata": {},
   "outputs": [],
   "source": [
    "plt.figure(figsize=(8, 6))\n",
    "sns.heatmap(no_zeros.corr(), annot=True, linewidths=.5);"
   ]
  },
  {
   "cell_type": "markdown",
   "metadata": {},
   "source": [
    "Viendo nuestra matriz, vemos que hay 3 relaciones que parecen ser más o menos relevantes:\n",
    "\n",
    "1. 'insulin' vs 'glucose'\n",
    "2. 'skin_thickness' vs 'bmi'\n",
    "3. 'age' vs 'pregnancies'\n",
    "\n",
    "---\n",
    "\n",
    "Confirmemos estos hallazgos usando un pairplot:"
   ]
  },
  {
   "cell_type": "code",
   "execution_count": null,
   "metadata": {},
   "outputs": [],
   "source": [
    "sns.pairplot(no_zeros);"
   ]
  },
  {
   "cell_type": "markdown",
   "metadata": {},
   "source": [
    "Viendo estas gráficas podemos confirmar que los pares 'skin_thickness-bmi' y 'glucose-insulin' parecen estar suficientemente relacionados. 'pregnancies-age' no es tan clara en la visualización.\n",
    "\n",
    "También podemos ver que en algunas de nuestras variables tenemos valores atípicos un poco extremos. Por ejemplo, en 'skin_thickness'. De hecho casi todas tienen algún valor que sobresale mucho.\n",
    "\n",
    "Para volver a confirmar que dos variables están relacionadas o no habría que proceder de la siguiente manera:\n",
    "\n",
    "1. Preguntarnos si estos valores atípicos son relevantes o podemos considerarlos anomalías (obviamente sólo un médico podría hacer esto efectivamente).\n",
    "2. Si los consideramos anomalías entonces habría que removerlos de nuestro dataset.\n",
    "3. Volver a cuantificar los coeficientes de correlación y las gráficas de pares para ver si algo cambio.\n",
    "\n",
    "Sinceramente, no parece ser que los valores atípicos estén distorsionando demasiado nuestros cálculos, pero de todas maneras sería una buena práctica proceder de esta manera para confirmar nuestras hipótesis.\n",
    "\n",
    "Por ejemplo, si elimino el valor atípico extremo de 'skin_thickness' realmente no cambian tanto nuestros coeficientes:"
   ]
  },
  {
   "cell_type": "code",
   "execution_count": null,
   "metadata": {},
   "outputs": [],
   "source": [
    "no_zeros = no_zeros[no_zeros['skin_thickness'] < 80]"
   ]
  },
  {
   "cell_type": "code",
   "execution_count": null,
   "metadata": {},
   "outputs": [],
   "source": [
    "plt.figure(figsize=(8, 6))\n",
    "sns.heatmap(no_zeros.corr(), annot=True, linewidths=.5);"
   ]
  },
  {
   "cell_type": "code",
   "execution_count": null,
   "metadata": {},
   "outputs": [],
   "source": [
    "sns.pairplot(no_zeros)"
   ]
  },
  {
   "cell_type": "markdown",
   "metadata": {},
   "source": [
    "También es muy importante siempre estar considerando el tamaño de tu dataset. Hay veces que removemos tantos valores que podemos quedarnos prácticamente sin dataset, lo cual indicaría, claro está, que nuestro dataset no es bueno."
   ]
  }
 ],
 "metadata": {
  "kernelspec": {
   "display_name": "Python 3",
   "language": "python",
   "name": "python3"
  },
  "language_info": {
   "codemirror_mode": {
    "name": "ipython",
    "version": 3
   },
   "file_extension": ".py",
   "mimetype": "text/x-python",
   "name": "python",
   "nbconvert_exporter": "python",
   "pygments_lexer": "ipython3",
   "version": "3.8.5"
  }
 },
 "nbformat": 4,
 "nbformat_minor": 4
}
