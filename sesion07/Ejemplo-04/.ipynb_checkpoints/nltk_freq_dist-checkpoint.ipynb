{
 "cells": [
  {
   "cell_type": "markdown",
   "metadata": {},
   "source": [
    "## Ejemplo 4: Nltk FreqDist\n",
    "\n",
    "### 1. Objetivos:\n",
    "    - Aprender a usar el objeto FreqDist de la librería Nltk\n",
    " \n",
    "---\n",
    "    \n",
    "### 2. Desarrollo:"
   ]
  },
  {
   "cell_type": "markdown",
   "metadata": {},
   "source": [
    "Ahora vamos a explorar el objeto `FreqDist` que nos facilita el conteo de frecuencias de las palabras en nuestro conjunto de datos. La primera parte del procesamiento es idéntico a la vez pasada."
   ]
  },
  {
   "cell_type": "code",
   "execution_count": null,
   "metadata": {},
   "outputs": [],
   "source": [
    "import pandas as pd\n",
    "import nltk\n",
    "import seaborn as sns\n",
    "import matplotlib.pyplot as plt\n",
    "import numpy as np"
   ]
  },
  {
   "cell_type": "code",
   "execution_count": null,
   "metadata": {},
   "outputs": [],
   "source": [
    "df = pd.read_json('../../Datasets/new_york_times_bestsellers-clean.json')\n",
    "\n",
    "df.head()"
   ]
  },
  {
   "cell_type": "code",
   "execution_count": null,
   "metadata": {},
   "outputs": [],
   "source": [
    "grouped_by_title = df.groupby('title')['description'].max()\n",
    "\n",
    "grouped_by_title"
   ]
  },
  {
   "cell_type": "markdown",
   "metadata": {},
   "source": [
    "Primero hay que limpiar un poco nuestros textos:"
   ]
  },
  {
   "cell_type": "code",
   "execution_count": null,
   "metadata": {},
   "outputs": [],
   "source": [
    "grouped_by_title = grouped_by_title.str.lower()\n",
    "grouped_by_title = grouped_by_title.str.strip()\n",
    "grouped_by_title = grouped_by_title.str.replace('[^\\w\\s]', '')\n",
    "grouped_by_title = grouped_by_title.str.replace('\\d', '')\n",
    "grouped_by_title = grouped_by_title.str.replace('\\\\n', '')\n",
    "grouped_by_title = grouped_by_title.dropna()\n",
    "\n",
    "grouped_by_title"
   ]
  },
  {
   "cell_type": "code",
   "execution_count": null,
   "metadata": {},
   "outputs": [],
   "source": [
    "# Separamos cada oración en palabras\n",
    "\n",
    "tokenized = grouped_by_title.apply(nltk.word_tokenize)"
   ]
  },
  {
   "cell_type": "code",
   "execution_count": null,
   "metadata": {},
   "outputs": [],
   "source": [
    "tokenized"
   ]
  },
  {
   "cell_type": "code",
   "execution_count": null,
   "metadata": {},
   "outputs": [],
   "source": [
    "all_words = tokenized.sum()"
   ]
  },
  {
   "cell_type": "code",
   "execution_count": null,
   "metadata": {},
   "outputs": [],
   "source": [
    "# Utilizamos FreqDist para analizar la distribución de frecuencia de nuestras palabras\n",
    "\n",
    "freq_dist = nltk.FreqDist(all_words)\n",
    "\n",
    "print(freq_dist)"
   ]
  },
  {
   "cell_type": "code",
   "execution_count": null,
   "metadata": {},
   "outputs": [],
   "source": [
    "freq_dist.most_common(50)"
   ]
  },
  {
   "cell_type": "markdown",
   "metadata": {},
   "source": [
    "Vamos a eliminar las 'palabras vacías' o 'stop words'\n",
    "\n",
    "Para hacer esto tienes que correr primero el siguiente comando:\n",
    "\n",
    "`nltk.download('stopwords')`"
   ]
  },
  {
   "cell_type": "code",
   "execution_count": null,
   "metadata": {},
   "outputs": [],
   "source": [
    "from nltk.corpus import stopwords"
   ]
  },
  {
   "cell_type": "code",
   "execution_count": null,
   "metadata": {},
   "outputs": [],
   "source": [
    "english_stop_words = stopwords.words('english')\n",
    "\n",
    "all_words_except_stop_words = [word for word in all_words if word not in english_stop_words]\n",
    "\n",
    "freq_dist_no_stop_words = nltk.FreqDist(all_words_except_stop_words)"
   ]
  },
  {
   "cell_type": "code",
   "execution_count": null,
   "metadata": {},
   "outputs": [],
   "source": [
    "freq_dist_no_stop_words.most_common(50)"
   ]
  },
  {
   "cell_type": "code",
   "execution_count": null,
   "metadata": {},
   "outputs": [],
   "source": [
    "# Conteo de una palabra y porcentaje de aparición\n",
    "\n",
    "print(f'{(100 * freq_dist_no_stop_words[\"woman\"] / len(all_words_except_stop_words)):.3f}%')"
   ]
  },
  {
   "cell_type": "code",
   "execution_count": null,
   "metadata": {},
   "outputs": [],
   "source": [
    "# Veamos qué proporción del text está siendo ocupada por las 50 palabras más comunes\n",
    "\n",
    "freq_dist_no_stop_words.plot(50, cumulative=True);"
   ]
  },
  {
   "cell_type": "code",
   "execution_count": null,
   "metadata": {},
   "outputs": [],
   "source": [
    "# Palabras que sólo aparecen una sola vez\n",
    "\n",
    "freq_dist_no_stop_words.hapaxes()[:20]"
   ]
  },
  {
   "cell_type": "code",
   "execution_count": null,
   "metadata": {},
   "outputs": [],
   "source": [
    "# Palabras largas\n",
    "\n",
    "unique = set(all_words_except_stop_words)\n",
    "unique_series = pd.Series(list(unique))\n",
    "\n",
    "unique_series"
   ]
  },
  {
   "cell_type": "code",
   "execution_count": null,
   "metadata": {},
   "outputs": [],
   "source": [
    "unique_series[unique_series.str.len() > 15]"
   ]
  },
  {
   "cell_type": "code",
   "execution_count": null,
   "metadata": {},
   "outputs": [],
   "source": [
    "# Palabras largas que son frecuentes\n",
    "\n",
    "larger_than_10 = unique_series.str.len() > 7\n",
    "is_frequent = unique_series.apply(lambda x: freq_dist_no_stop_words[x] > 7)\n",
    "\n",
    "unique_series[larger_than_10 & is_frequent]"
   ]
  },
  {
   "cell_type": "code",
   "execution_count": null,
   "metadata": {},
   "outputs": [],
   "source": [
    "# Podemos contar otras cosas, como la frecuencia de longitudes de nuestras palabras\n",
    "\n",
    "freq_dist_lengths = nltk.FreqDist([len(w) for w in all_words_except_stop_words])"
   ]
  },
  {
   "cell_type": "code",
   "execution_count": null,
   "metadata": {},
   "outputs": [],
   "source": [
    "freq_dist_lengths.most_common()"
   ]
  },
  {
   "cell_type": "code",
   "execution_count": null,
   "metadata": {},
   "outputs": [],
   "source": [
    "freq_dist_lengths.max()"
   ]
  },
  {
   "cell_type": "code",
   "execution_count": null,
   "metadata": {},
   "outputs": [],
   "source": [
    "freq_dist_lengths[5]"
   ]
  },
  {
   "cell_type": "code",
   "execution_count": null,
   "metadata": {},
   "outputs": [],
   "source": [
    "# También podemos saber qué proporción del total de palabras tiene longitud de 5\n",
    "\n",
    "freq_dist_lengths.freq(5)"
   ]
  }
 ],
 "metadata": {
  "kernelspec": {
   "display_name": "Python 3",
   "language": "python",
   "name": "python3"
  },
  "language_info": {
   "codemirror_mode": {
    "name": "ipython",
    "version": 3
   },
   "file_extension": ".py",
   "mimetype": "text/x-python",
   "name": "python",
   "nbconvert_exporter": "python",
   "pygments_lexer": "ipython3",
   "version": "3.8.5"
  }
 },
 "nbformat": 4,
 "nbformat_minor": 4
}
